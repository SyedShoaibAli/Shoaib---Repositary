{
  "nbformat": 4,
  "nbformat_minor": 5,
  "metadata": {
    "kernelspec": {
      "display_name": "Python 3",
      "language": "python",
      "name": "python3"
    },
    "language_info": {
      "codemirror_mode": {
        "name": "ipython",
        "version": 3
      },
      "file_extension": ".py",
      "mimetype": "text/x-python",
      "name": "python",
      "nbconvert_exporter": "python",
      "pygments_lexer": "ipython3",
      "version": "3.8.5"
    },
    "colab": {
      "name": "Copy of Element 1 Assessment - Palindrome.ipynb",
      "provenance": [],
      "collapsed_sections": [],
      "include_colab_link": true
    }
  },
  "cells": [
    {
      "cell_type": "markdown",
      "metadata": {
        "id": "view-in-github",
        "colab_type": "text"
      },
      "source": [
        "<a href=\"https://colab.research.google.com/github/SyedShoaibAli/Shoaib---Repositary/blob/main/Copy_of_Element_1_Assessment_Palindrome.ipynb\" target=\"_parent\"><img src=\"https://colab.research.google.com/assets/colab-badge.svg\" alt=\"Open In Colab\"/></a>"
      ]
    },
    {
      "cell_type": "markdown",
      "metadata": {
        "id": "qualified-overhead"
      },
      "source": [
        "# Functions"
      ],
      "id": "qualified-overhead"
    },
    {
      "cell_type": "markdown",
      "metadata": {
        "id": "geographic-kazakhstan"
      },
      "source": [
        "## Count Non-Vowel Characters\n",
        "Write a Python function that takes a string and returns the number of non-vowel characters in that string. Vowel characters in English are \"a\", \"e\", \"i\", \"o\", and \"u\". For example, given the string \"abcdA\", the function should return 3."
      ],
      "id": "geographic-kazakhstan"
    },
    {
      "cell_type": "code",
      "metadata": {
        "colab": {
          "base_uri": "https://localhost:8080/"
        },
        "id": "increased-introduction",
        "outputId": "abd63dbf-614d-4be8-bc57-02d863c9311d"
      },
      "source": [
        "str = \"Aadfmngrqwxie\"\n",
        "#vowels_list = ('a' , 'e', 'i', 'o', 'u')\n",
        "\n",
        "def removevowels(str):\n",
        "  vowels_list = ('a' , 'e', 'i', 'o', 'u')\n",
        "  lead1 = [letter for letter in str if letter.lower() not in vowels_list]\n",
        "  lead1 = ''.join(lead1)\n",
        "  print(len(lead1))\n",
        "removevowels(str)\n",
        "\n",
        "\n",
        "# input: A string\n",
        "# output: an integer that shows the count of non vowel characters\n",
        "\n",
        "# step 1: defifning a head of functions\n",
        "def count_non_vowels (input_string):\n",
        "  \"\"\" this function will give count of non vowels \"\"\"\n",
        "\n",
        "  input_string = input_string.lower()\n",
        "\n",
        "  0# step 2: removing vowel characters\n",
        "  vowels = (\"a\" , \"e\", \"i\", \"o\", \"u\")\n",
        "  for vowel in vowels:\n",
        "      input_string = input_string.replace(vowel, \"\")\n",
        "\n",
        "  # step 3: count the the number of remaining characters\n",
        "  count = len(input_string)\n",
        "\n",
        "  return count\n",
        "\n",
        "x = count_non_vowels(\"AbcdA\")\n",
        "x"
      ],
      "id": "increased-introduction",
      "execution_count": null,
      "outputs": [
        {
          "output_type": "stream",
          "name": "stdout",
          "text": [
            "9\n"
          ]
        },
        {
          "output_type": "execute_result",
          "data": {
            "text/plain": [
              "3"
            ]
          },
          "metadata": {},
          "execution_count": 32
        }
      ]
    },
    {
      "cell_type": "markdown",
      "metadata": {
        "id": "permanent-lawsuit"
      },
      "source": [
        "## Multiply the List Elements\n",
        "Write a Python function that takes a list of values as input and returns the product of all the numbers in the list. For example, given the input list [1, 3, 8], the function should return 24."
      ],
      "id": "permanent-lawsuit"
    },
    {
      "cell_type": "code",
      "metadata": {
        "colab": {
          "base_uri": "https://localhost:8080/"
        },
        "id": "extensive-dividend",
        "outputId": "ada4c033-a204-4c51-d83c-600f74997296"
      },
      "source": [
        "# input: a list of integers\n",
        "# output: an integer which is the product of the input numbers\n",
        "\n",
        "\n",
        "def multiply_integers(my_list):\n",
        "  \"\"\"\n",
        "  this is a function that takes a list of integers and returns the product of integers.\n",
        "  \"\"\"\n",
        "  product = 1\n",
        "  for i in my_list:\n",
        "    #product = product * i\n",
        "    product *= i\n",
        "  return product\n",
        "\n",
        "\n",
        "x = multiply_integers([1, 3, 8])\n",
        "x\n",
        "\n",
        "# [1 , 3, 8]\n",
        "# 1 * 3 * 8\n",
        "#each time take one value from the input list\n",
        "# multiply that value to a result variable\n",
        "# store the result again\n",
        "\n",
        "# r = 1\n",
        "# r = r * 1\n",
        "# r = r * 3\n",
        "# r = r * 8"
      ],
      "id": "extensive-dividend",
      "execution_count": null,
      "outputs": [
        {
          "output_type": "execute_result",
          "data": {
            "text/plain": [
              "24"
            ]
          },
          "metadata": {},
          "execution_count": 6
        }
      ]
    },
    {
      "cell_type": "markdown",
      "metadata": {
        "id": "documented-discharge"
      },
      "source": [
        "## Check if a String is Palindrome\n",
        "Write a Python function that takes a string and returns True if it is palindrome. A palindrome is a word, number, phrase, or other sequence of characters which reads the same backward as forward. For example, given the string \"abc\" the function should return False. But, given the string \"aba\" the function should return True.\n",
        "\n",
        "- Step 1: **Functions**\n",
        "\n",
        "    A function is a piece of code that only executes when called.\n",
        "\n",
        "    Parameters are data that can be passed into a function.\n",
        "\n",
        "    A function can return data as a result.\n",
        "\n",
        "- Step 2: **Return Statement**\n",
        "\n",
        "    The return statement in Python is an unique statement that can be used     inside a function or method to return the function's result to the caller\n",
        "\n",
        "    In the return statement, we have explained our function to check the input being Palindrome or not\n",
        "     \n",
        "    The statenent Shah[::-1] will verify the input characters both forward & backward.\n",
        "  \n",
        "- Step 3: **Input**\n",
        "\n",
        "- Step 4: **Validation**\n"
      ],
      "id": "documented-discharge"
    },
    {
      "cell_type": "code",
      "metadata": {
        "id": "homeless-generator",
        "colab": {
          "base_uri": "https://localhost:8080/"
        },
        "outputId": "18a3ac62-1a45-466f-d4b7-b687b421aafa"
      },
      "source": [
        "# Step 1: Functions \n",
        "\n",
        "def Palindrome(Shah):\n",
        "\n",
        "    # Step 2: Return\n",
        "    Shah = Shah.lower()\n",
        "    return Shah == Shah[::-1]\n",
        "\n",
        "    # Step 3: Input\n",
        "Shah = input(\" Input: \")\n",
        "\n",
        "    # Step 4: Validation of the output  \n",
        "\n",
        "Answer = Palindrome(Shah)\n",
        "\n",
        "if Answer:\n",
        "    print(\"Yes\")\n",
        "else:\n",
        "    print(\"no\")\n",
        "\n",
        "\n",
        "# returns: true"
      ],
      "id": "homeless-generator",
      "execution_count": 20,
      "outputs": [
        {
          "output_type": "stream",
          "name": "stdout",
          "text": [
            " Input: Tartar\n",
            "no\n"
          ]
        }
      ]
    },
    {
      "cell_type": "code",
      "metadata": {
        "colab": {
          "base_uri": "https://localhost:8080/",
          "height": 35
        },
        "id": "Fnq9BTAnTIut",
        "outputId": "820a9540-c8cb-45f9-c29e-16971180f904"
      },
      "source": [
        "def Palindrome(x):\n",
        "    if x == x[::-1]:\n",
        "      return \"Yes\"\n",
        "    else:\n",
        "      return \"No\"\n",
        "\n",
        "x = \"Bad\"\n",
        "Palindrome(x)\n",
        "\n",
        "#if True:\n",
        "    #print(\"Yes\")\n",
        "#else:\n",
        "    #print(\"no\")"
      ],
      "id": "Fnq9BTAnTIut",
      "execution_count": null,
      "outputs": [
        {
          "output_type": "execute_result",
          "data": {
            "application/vnd.google.colaboratory.intrinsic+json": {
              "type": "string"
            },
            "text/plain": [
              "'No'"
            ]
          },
          "metadata": {},
          "execution_count": 12
        }
      ]
    },
    {
      "cell_type": "markdown",
      "metadata": {
        "id": "retired-craps"
      },
      "source": [
        "## Count the Unique Digits in an Integer\n",
        "Write a Python function that takes a positive integer and returns the number of unique digits in that integer. For example, given the integer 12315, the function should return 4."
      ],
      "id": "retired-craps"
    },
    {
      "cell_type": "code",
      "metadata": {
        "id": "australian-resort"
      },
      "source": [
        ""
      ],
      "id": "australian-resort",
      "execution_count": null,
      "outputs": []
    },
    {
      "cell_type": "markdown",
      "metadata": {
        "id": "upset-physiology"
      },
      "source": [
        "## Check a Number is Prime\n",
        "Write a Python function that takes a number and checks the number is prime or not. It should return True for being prime and False otherwise. Note that a prime number (or a prime) is a natural number greater than 1 and that has no positive divisors other than 1 and itself. For example, the function should return True for the given number 7 and False for the given number 10."
      ],
      "id": "upset-physiology"
    },
    {
      "cell_type": "code",
      "metadata": {
        "id": "normal-garbage"
      },
      "source": [
        ""
      ],
      "id": "normal-garbage",
      "execution_count": null,
      "outputs": []
    },
    {
      "cell_type": "markdown",
      "metadata": {
        "id": "daily-console"
      },
      "source": [
        "## Sort Hyphened-Seperated Words\n",
        "Write a Python function that takes a hyphen-separated sequence of words as input and returns the words in a hyphen-separated sequence after sorting them alphabetically. For example, given the string \"green-red-yellow-black-white\", the function should return \"black-green-red-white-yellow\"."
      ],
      "id": "daily-console"
    },
    {
      "cell_type": "code",
      "metadata": {
        "id": "aging-staff"
      },
      "source": [
        ""
      ],
      "id": "aging-staff",
      "execution_count": null,
      "outputs": []
    },
    {
      "cell_type": "markdown",
      "metadata": {
        "id": "dressed-leisure"
      },
      "source": [
        "## Count the Characters\n",
        "Write a Python function that takes a string as input and returns a dictionary that stores the frequency of each character in the input string. For example, given the string \"abca\", the function should return {'a': 2, 'b': 1, 'c': 1}."
      ],
      "id": "dressed-leisure"
    },
    {
      "cell_type": "code",
      "metadata": {
        "id": "complete-stress"
      },
      "source": [
        ""
      ],
      "id": "complete-stress",
      "execution_count": null,
      "outputs": []
    },
    {
      "cell_type": "markdown",
      "metadata": {
        "id": "aerial-uganda"
      },
      "source": [
        "## Compute the Fibonacci Sequence\n",
        "The Fibonacci Sequence is computed based on the following formula:\n",
        "\n",
        "f(n) = 0 if n = 0   \n",
        "f(n) = 1 if n = 1   \n",
        "f(n) = f(n-1) + f(n-2) if n > 1   \n",
        "\n",
        "Write a Python function that computes the value of f(n) with a given n as input. For example, given 7, the function should return 13."
      ],
      "id": "aerial-uganda"
    },
    {
      "cell_type": "code",
      "metadata": {
        "id": "compatible-senate"
      },
      "source": [
        ""
      ],
      "id": "compatible-senate",
      "execution_count": null,
      "outputs": []
    }
  ]
}