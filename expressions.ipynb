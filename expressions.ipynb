{
  "nbformat": 4,
  "nbformat_minor": 5,
  "metadata": {
    "kernelspec": {
      "display_name": "Python 3",
      "language": "python",
      "name": "python3"
    },
    "language_info": {
      "codemirror_mode": {
        "name": "ipython",
        "version": 3
      },
      "file_extension": ".py",
      "mimetype": "text/x-python",
      "name": "python",
      "nbconvert_exporter": "python",
      "pygments_lexer": "ipython3",
      "version": "3.8.5"
    },
    "colab": {
      "name": "expressions.ipynb",
      "provenance": [],
      "collapsed_sections": [],
      "toc_visible": true,
      "include_colab_link": true
    }
  },
  "cells": [
    {
      "cell_type": "markdown",
      "metadata": {
        "id": "view-in-github",
        "colab_type": "text"
      },
      "source": [
        "<a href=\"https://colab.research.google.com/github/SyedShoaibAli/Shoaib---Repositary/blob/main/expressions.ipynb\" target=\"_parent\"><img src=\"https://colab.research.google.com/assets/colab-badge.svg\" alt=\"Open In Colab\"/></a>"
      ]
    },
    {
      "cell_type": "markdown",
      "metadata": {
        "id": "loved-gallery"
      },
      "source": [
        "# Expressions"
      ],
      "id": "loved-gallery"
    },
    {
      "cell_type": "code",
      "metadata": {
        "colab": {
          "base_uri": "https://localhost:8080/"
        },
        "id": "HsYlJOu68Eox",
        "outputId": "89dbb4a7-b758-4f98-a7b4-bb2b58729b6e"
      },
      "source": [
        "print (\"hello world\")\n"
      ],
      "id": "HsYlJOu68Eox",
      "execution_count": null,
      "outputs": [
        {
          "output_type": "stream",
          "name": "stdout",
          "text": [
            "hello world\n"
          ]
        }
      ]
    },
    {
      "cell_type": "code",
      "metadata": {
        "colab": {
          "base_uri": "https://localhost:8080/"
        },
        "id": "ljXS1iNn8ju4",
        "outputId": "7ae6bc83-2666-4bae-b84c-e20f100cb736"
      },
      "source": [
        "print ('more string') \n"
      ],
      "id": "ljXS1iNn8ju4",
      "execution_count": null,
      "outputs": [
        {
          "output_type": "stream",
          "name": "stdout",
          "text": [
            "more string\n"
          ]
        }
      ]
    },
    {
      "cell_type": "code",
      "metadata": {
        "colab": {
          "base_uri": "https://localhost:8080/"
        },
        "id": "WJOqTz3e9oAi",
        "outputId": "eb4c8bb3-9cc1-42d0-9f5a-6c9296199fe3"
      },
      "source": [
        "a=1\n",
        "print(a)  "
      ],
      "id": "WJOqTz3e9oAi",
      "execution_count": null,
      "outputs": [
        {
          "output_type": "stream",
          "name": "stdout",
          "text": [
            "1\n"
          ]
        }
      ]
    },
    {
      "cell_type": "code",
      "metadata": {
        "colab": {
          "base_uri": "https://localhost:8080/"
        },
        "id": "9fsBK2QRmKuB",
        "outputId": "c2c8ba1c-af06-4fe0-950f-996e88e9afd8"
      },
      "source": [
        "print (\"HR Employee\")\n"
      ],
      "id": "9fsBK2QRmKuB",
      "execution_count": null,
      "outputs": [
        {
          "output_type": "stream",
          "name": "stdout",
          "text": [
            "HR Employee\n"
          ]
        }
      ]
    },
    {
      "cell_type": "code",
      "metadata": {
        "colab": {
          "base_uri": "https://localhost:8080/"
        },
        "id": "ji-auoTO9_E0",
        "outputId": "ab2a797e-1237-456b-8095-2131f2aa7849"
      },
      "source": [
        "b=2\n",
        "print(b)\n"
      ],
      "id": "ji-auoTO9_E0",
      "execution_count": null,
      "outputs": [
        {
          "output_type": "stream",
          "name": "stdout",
          "text": [
            "2\n"
          ]
        }
      ]
    },
    {
      "cell_type": "code",
      "metadata": {
        "colab": {
          "base_uri": "https://localhost:8080/"
        },
        "id": "23SjtnfO-MXI",
        "outputId": "6ed0d2aa-e282-4279-bb62-ecafc5cf4333"
      },
      "source": [
        "print(a)\n",
        "print(b)\n"
      ],
      "id": "23SjtnfO-MXI",
      "execution_count": null,
      "outputs": [
        {
          "output_type": "stream",
          "name": "stdout",
          "text": [
            "1\n",
            "2\n"
          ]
        }
      ]
    },
    {
      "cell_type": "code",
      "metadata": {
        "colab": {
          "base_uri": "https://localhost:8080/"
        },
        "id": "gtk4lufPCHYJ",
        "outputId": "f1c0b433-015f-4c08-e54a-823cf0224947"
      },
      "source": [
        "c = \"hello there\"\n",
        "print (c)\n",
        "\n"
      ],
      "id": "gtk4lufPCHYJ",
      "execution_count": null,
      "outputs": [
        {
          "output_type": "stream",
          "name": "stdout",
          "text": [
            "hello there\n"
          ]
        }
      ]
    },
    {
      "cell_type": "code",
      "metadata": {
        "colab": {
          "base_uri": "https://localhost:8080/"
        },
        "id": "xvd65hipFik5",
        "outputId": "2d5c7373-3200-40f9-d53b-1033bd4e665e"
      },
      "source": [
        "print (b)\n"
      ],
      "id": "xvd65hipFik5",
      "execution_count": null,
      "outputs": [
        {
          "output_type": "stream",
          "name": "stdout",
          "text": [
            "2\n"
          ]
        }
      ]
    },
    {
      "cell_type": "code",
      "metadata": {
        "colab": {
          "base_uri": "https://localhost:8080/"
        },
        "id": "mW1lhS39FofL",
        "outputId": "6b4d1fa6-bfa0-463b-841b-3ff5ee7b53cc"
      },
      "source": [
        "b = 1\n",
        "print (b)\n"
      ],
      "id": "mW1lhS39FofL",
      "execution_count": null,
      "outputs": [
        {
          "output_type": "stream",
          "name": "stdout",
          "text": [
            "1\n"
          ]
        }
      ]
    },
    {
      "cell_type": "code",
      "metadata": {
        "colab": {
          "base_uri": "https://localhost:8080/",
          "height": 162
        },
        "id": "NjnRsoHQF27T",
        "outputId": "9cac5ae0-140d-43bc-a68b-df5f2a9c3e0b"
      },
      "source": [
        "print (e)\n"
      ],
      "id": "NjnRsoHQF27T",
      "execution_count": null,
      "outputs": [
        {
          "output_type": "error",
          "ename": "NameError",
          "evalue": "ignored",
          "traceback": [
            "\u001b[0;31m---------------------------------------------------------------------------\u001b[0m",
            "\u001b[0;31mNameError\u001b[0m                                 Traceback (most recent call last)",
            "\u001b[0;32m<ipython-input-24-0a7f9be97adf>\u001b[0m in \u001b[0;36m<module>\u001b[0;34m()\u001b[0m\n\u001b[0;32m----> 1\u001b[0;31m \u001b[0mprint\u001b[0m \u001b[0;34m(\u001b[0m\u001b[0me\u001b[0m\u001b[0;34m)\u001b[0m\u001b[0;34m\u001b[0m\u001b[0;34m\u001b[0m\u001b[0m\n\u001b[0m",
            "\u001b[0;31mNameError\u001b[0m: name 'e' is not defined"
          ]
        }
      ]
    },
    {
      "cell_type": "code",
      "metadata": {
        "colab": {
          "base_uri": "https://localhost:8080/"
        },
        "id": "kcGIkvV9GD7M",
        "outputId": "b233c196-f959-42ac-f19e-c8a2c105732e"
      },
      "source": [
        "e = ('this is a string')\n",
        "print (e)\n"
      ],
      "id": "kcGIkvV9GD7M",
      "execution_count": null,
      "outputs": [
        {
          "output_type": "stream",
          "name": "stdout",
          "text": [
            "this is a string\n"
          ]
        }
      ]
    },
    {
      "cell_type": "code",
      "metadata": {
        "colab": {
          "base_uri": "https://localhost:8080/"
        },
        "id": "ymJ-jgOgGs-J",
        "outputId": "d17978b1-44a0-4015-e4b2-f6e5c584d4b0"
      },
      "source": [
        "print(a)\n",
        "print(c)\n"
      ],
      "id": "ymJ-jgOgGs-J",
      "execution_count": null,
      "outputs": [
        {
          "output_type": "stream",
          "name": "stdout",
          "text": [
            "1\n",
            "hello there\n"
          ]
        }
      ]
    },
    {
      "cell_type": "code",
      "metadata": {
        "colab": {
          "base_uri": "https://localhost:8080/"
        },
        "id": "x3t-9sBjG4ez",
        "outputId": "42e24087-c143-43ca-9f17-a253811fe299"
      },
      "source": [
        "f = a\n",
        "print (f)\n",
        "\n"
      ],
      "id": "x3t-9sBjG4ez",
      "execution_count": null,
      "outputs": [
        {
          "output_type": "stream",
          "name": "stdout",
          "text": [
            "1\n"
          ]
        }
      ]
    },
    {
      "cell_type": "code",
      "metadata": {
        "colab": {
          "base_uri": "https://localhost:8080/"
        },
        "id": "DWASDb1pHMXK",
        "outputId": "17d97e27-5ca1-4a32-920a-1b9281707c22"
      },
      "source": [
        "a = 2\n",
        "print (a)\n"
      ],
      "id": "DWASDb1pHMXK",
      "execution_count": null,
      "outputs": [
        {
          "output_type": "stream",
          "name": "stdout",
          "text": [
            "2\n"
          ]
        }
      ]
    },
    {
      "cell_type": "markdown",
      "metadata": {
        "id": "E7C8BfYce3sB"
      },
      "source": [
        "# Reverse the string exercise One"
      ],
      "id": "E7C8BfYce3sB"
    },
    {
      "cell_type": "code",
      "metadata": {
        "colab": {
          "base_uri": "https://localhost:8080/"
        },
        "id": "v9kJHGfcJl5T",
        "outputId": "4d892813-e658-473e-cf90-9db0079a870b"
      },
      "source": [
        "v1 = \"first string\"\n",
        "v2 = \"second string\"\n",
        "temp = v1\n",
        "v1 = v2\n",
        "v2 = temp\n",
        "print (v1)\n",
        "print (v2)"
      ],
      "id": "v9kJHGfcJl5T",
      "execution_count": null,
      "outputs": [
        {
          "output_type": "stream",
          "name": "stdout",
          "text": [
            "second string\n",
            "first string\n"
          ]
        }
      ]
    },
    {
      "cell_type": "code",
      "metadata": {
        "colab": {
          "base_uri": "https://localhost:8080/"
        },
        "id": "W4muteNUha2g",
        "outputId": "79f4a8dd-74e2-45bf-ae51-c8d63ae80e1f"
      },
      "source": [
        "Data1 = \"HR Employee\"\n",
        "Data2 = \"Employee List\"\n",
        "change = Data1\n",
        "Data1 = Data2\n",
        "Data2 = Change\n",
        "print (Data1)\n",
        "print (Data2)\n",
        "\n"
      ],
      "id": "W4muteNUha2g",
      "execution_count": null,
      "outputs": [
        {
          "output_type": "stream",
          "name": "stdout",
          "text": [
            "Employee List\n",
            "Employee MIS\n"
          ]
        }
      ]
    },
    {
      "cell_type": "markdown",
      "metadata": {
        "id": "false-documentary"
      },
      "source": [
        "## Count Seconds in a Decade\n",
        "Write a Python program to calculate the number of seconds in 10 years. Assume that we have 2 leap years in this period. Assign the result into a variable named seconds_in_10_years."
      ],
      "id": "false-documentary"
    },
    {
      "cell_type": "code",
      "metadata": {
        "colab": {
          "base_uri": "https://localhost:8080/"
        },
        "id": "prescribed-faculty",
        "outputId": "f65a0599-66f9-4be4-d612-254b1e904b7d"
      },
      "source": [
        "seconds_in_10_years = ( 8 * 365 + 2 * 366 ) * 24 * 60 * 60\n",
        "seconds_in_10_years"
      ],
      "id": "prescribed-faculty",
      "execution_count": null,
      "outputs": [
        {
          "output_type": "execute_result",
          "data": {
            "text/plain": [
              "315532800"
            ]
          },
          "metadata": {},
          "execution_count": 1
        }
      ]
    },
    {
      "cell_type": "markdown",
      "metadata": {
        "id": "sealed-mouth"
      },
      "source": [
        "## Compute the Area of a Circle\n",
        "Write a Python program that computes the area of a circle based on a given radius (area = $ \\pi r^2 $)."
      ],
      "id": "sealed-mouth"
    },
    {
      "cell_type": "code",
      "metadata": {
        "id": "amber-macedonia"
      },
      "source": [
        ""
      ],
      "id": "amber-macedonia",
      "execution_count": null,
      "outputs": []
    },
    {
      "cell_type": "markdown",
      "metadata": {
        "id": "imported-yeast"
      },
      "source": [
        "## Print User's Name\n",
        "Write a Python program which accepts the user's first and last name and print them in reverse order with a space between them. Note that you can use the input() function to take user's inputs."
      ],
      "id": "imported-yeast"
    },
    {
      "cell_type": "code",
      "metadata": {
        "colab": {
          "base_uri": "https://localhost:8080/"
        },
        "id": "inner-arabic",
        "outputId": "905e70d6-e7d8-48ae-8840-ee5a9abe7929"
      },
      "source": [
        "# take a name from user   \n",
        "username = input(\" please enter username: \")\n",
        "# break it down into first and last name\n",
        "# \"Shoaib Shah\"\n",
        "first_name, last_name = username.split(\" \")\n",
        "# print them in reverse order with comma in between\n",
        "print(last_name, \",\" , first_name)\n"
      ],
      "id": "inner-arabic",
      "execution_count": null,
      "outputs": [
        {
          "output_type": "stream",
          "name": "stdout",
          "text": [
            " please enter username: Shoaib Shah\n",
            "Shah , Shoaib\n"
          ]
        }
      ]
    },
    {
      "cell_type": "code",
      "metadata": {
        "id": "Co6DkP7PjRDG"
      },
      "source": [
        ""
      ],
      "id": "Co6DkP7PjRDG",
      "execution_count": null,
      "outputs": []
    },
    {
      "cell_type": "markdown",
      "metadata": {
        "id": "attached-cleaning"
      },
      "source": [
        "## Compute Maximum of Numbers\n",
        "Write a program that computes the maximum of two elements: (1) absolute of -4 and (2) minimum of -3 and the length of the string \"abc\"."
      ],
      "id": "attached-cleaning"
    },
    {
      "cell_type": "code",
      "metadata": {
        "id": "aware-resort"
      },
      "source": [
        ""
      ],
      "id": "aware-resort",
      "execution_count": null,
      "outputs": []
    },
    {
      "cell_type": "markdown",
      "metadata": {
        "id": "cooperative-request"
      },
      "source": [
        "## Compute Euclidean Distance\n",
        "Write a Python program to compute the Euclidean distance between two given points $ (x_1, y_1) $ and $ (x_2, y_2) $, which is $ \\sqrt{(x_1 - x_2)^2 + (y_1 - y_2)^2} $."
      ],
      "id": "cooperative-request"
    },
    {
      "cell_type": "code",
      "metadata": {
        "id": "killing-shore"
      },
      "source": [
        ""
      ],
      "id": "killing-shore",
      "execution_count": null,
      "outputs": []
    },
    {
      "cell_type": "markdown",
      "metadata": {
        "id": "color-texas"
      },
      "source": [
        "## Convert Fahrenheit to Celsius \n",
        "Write a Python program to convert fahrenheit to celsius based on the the formula $ C = (F - 32) \\times \\frac{5}{9}. $"
      ],
      "id": "color-texas"
    },
    {
      "cell_type": "markdown",
      "metadata": {
        "id": "6VcqIBfwsTXv"
      },
      "source": [
        "# If Else Statement"
      ],
      "id": "6VcqIBfwsTXv"
    },
    {
      "cell_type": "code",
      "metadata": {
        "colab": {
          "base_uri": "https://localhost:8080/"
        },
        "id": "2V6bYNEmspyv",
        "outputId": "4ed920da-28de-4c4f-8e27-bb08c7e04761"
      },
      "source": [
        "print(\"hello 1\")\n",
        "print(\"hello 2\")\n"
      ],
      "id": "2V6bYNEmspyv",
      "execution_count": null,
      "outputs": [
        {
          "output_type": "stream",
          "name": "stdout",
          "text": [
            "hello 1\n",
            "hello 2\n"
          ]
        }
      ]
    },
    {
      "cell_type": "code",
      "metadata": {
        "colab": {
          "base_uri": "https://localhost:8080/"
        },
        "id": "6M-YCsi1tP17",
        "outputId": "7ec62034-c028-4076-938f-1755ab106553"
      },
      "source": [
        "print (b)\n",
        "\n"
      ],
      "id": "6M-YCsi1tP17",
      "execution_count": null,
      "outputs": [
        {
          "output_type": "stream",
          "name": "stdout",
          "text": [
            "2\n"
          ]
        }
      ]
    },
    {
      "cell_type": "code",
      "metadata": {
        "id": "broad-ordinary",
        "colab": {
          "base_uri": "https://localhost:8080/"
        },
        "outputId": "d2039dbf-a773-4b12-c963-2c3a09c423d2"
      },
      "source": [
        "Male = 10\n",
        "Female = 11\n",
        "if Male < Female:\n",
        "    print(\"Male is less than Female\")\n",
        "    print(\"Male is definitely less than Female\")\n",
        "print (\"not sure if Male is than Female\")"
      ],
      "id": "broad-ordinary",
      "execution_count": null,
      "outputs": [
        {
          "output_type": "stream",
          "name": "stdout",
          "text": [
            "Male is less than Female\n",
            "Male is definitely less than Female\n",
            "not sure if Male is than Female\n"
          ]
        }
      ]
    },
    {
      "cell_type": "code",
      "metadata": {
        "colab": {
          "base_uri": "https://localhost:8080/"
        },
        "id": "5dZ7XVAiyLX7",
        "outputId": "14984bd0-ff35-4958-b2e5-169fd0588095"
      },
      "source": [
        "L = 5\n",
        "J = 4\n",
        "if L < J:\n",
        "    print(\"L is less than J\")\n",
        "else:\n",
        "    print(\"L is not less than J\")\n",
        "    print(\"i dont think L is than J\")\n",
        "print(\"outside the if block\")\n"
      ],
      "id": "5dZ7XVAiyLX7",
      "execution_count": null,
      "outputs": [
        {
          "output_type": "stream",
          "name": "stdout",
          "text": [
            "L is not less than J\n",
            "i dont think L is than J\n",
            "outside the if block\n"
          ]
        }
      ]
    },
    {
      "cell_type": "code",
      "metadata": {
        "colab": {
          "base_uri": "https://localhost:8080/"
        },
        "id": "qhfDtFCv0dxg",
        "outputId": "ae643370-0ddb-4b71-97d5-ebef4b99d12f"
      },
      "source": [
        "e = 19\n",
        "f = 8\n",
        "if e < f:\n",
        "    print(\"e is less than f\")\n",
        "elif e == f:\n",
        "    print(\"e is equal to f\")\n",
        "elif e > f + 10:\n",
        "    print(\"e is greater than f by more than 10\")\n",
        "else:\n",
        "    print(\"e is greater than f\")\n",
        "\n"
      ],
      "id": "qhfDtFCv0dxg",
      "execution_count": null,
      "outputs": [
        {
          "output_type": "stream",
          "name": "stdout",
          "text": [
            "e is greater than f by more than 10\n"
          ]
        }
      ]
    },
    {
      "cell_type": "code",
      "metadata": {
        "colab": {
          "base_uri": "https://localhost:8080/"
        },
        "id": "FJmjiI-b3BTl",
        "outputId": "af9bd963-bdd4-4e13-e221-7f2d1bcd5932"
      },
      "source": [
        "g = 9\n",
        "h = 8\n",
        "if g < h:\n",
        "    print(\"g is greater than h\")\n",
        "else:\n",
        "    if g == h:\n",
        "        print(\"g is equal to h\")\n",
        "    else:\n",
        "        print(\"g is greater than h\")  \n"
      ],
      "id": "FJmjiI-b3BTl",
      "execution_count": null,
      "outputs": [
        {
          "output_type": "stream",
          "name": "stdout",
          "text": [
            "g is greater than h\n"
          ]
        }
      ]
    },
    {
      "cell_type": "code",
      "metadata": {
        "colab": {
          "base_uri": "https://localhost:8080/"
        },
        "id": "OkY41o2S4h7W",
        "outputId": "2a070e58-7896-4265-b74c-b31677ef6d66"
      },
      "source": [
        "name = \"Shoaib\"\n",
        "height_m = 2\n",
        "weight_kg = 80\n",
        "\n",
        "bmi = weight_kg / (height_m ** 2)\n",
        "print(\"bmi: \")\n",
        "print(bmi)\n",
        "if bmi < 25:\n",
        "    print (name)\n",
        "    print (\"is not overweight\")\n",
        "else:\n",
        "    print(name)\n",
        "    print(\"is overweight\")  \n"
      ],
      "id": "OkY41o2S4h7W",
      "execution_count": null,
      "outputs": [
        {
          "output_type": "stream",
          "name": "stdout",
          "text": [
            "bmi: \n",
            "20.0\n",
            "Shoaib\n",
            "is not overweight\n"
          ]
        }
      ]
    }
  ]
}