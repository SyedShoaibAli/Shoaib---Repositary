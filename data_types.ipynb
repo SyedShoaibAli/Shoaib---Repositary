{
  "nbformat": 4,
  "nbformat_minor": 5,
  "metadata": {
    "kernelspec": {
      "display_name": "Python 3",
      "language": "python",
      "name": "python3"
    },
    "language_info": {
      "codemirror_mode": {
        "name": "ipython",
        "version": 3
      },
      "file_extension": ".py",
      "mimetype": "text/x-python",
      "name": "python",
      "nbconvert_exporter": "python",
      "pygments_lexer": "ipython3",
      "version": "3.8.5"
    },
    "colab": {
      "name": "data_types.ipynb",
      "provenance": [],
      "include_colab_link": true
    }
  },
  "cells": [
    {
      "cell_type": "markdown",
      "metadata": {
        "id": "view-in-github",
        "colab_type": "text"
      },
      "source": [
        "<a href=\"https://colab.research.google.com/github/SyedShoaibAli/Shoaib---Repositary/blob/main/data_types.ipynb\" target=\"_parent\"><img src=\"https://colab.research.google.com/assets/colab-badge.svg\" alt=\"Open In Colab\"/></a>"
      ]
    },
    {
      "cell_type": "markdown",
      "metadata": {
        "id": "novel-stream"
      },
      "source": [
        "# Data Types"
      ],
      "id": "novel-stream"
    },
    {
      "cell_type": "code",
      "metadata": {
        "id": "LsmgFG2XZfh6"
      },
      "source": [
        ""
      ],
      "id": "LsmgFG2XZfh6",
      "execution_count": null,
      "outputs": []
    },
    {
      "cell_type": "code",
      "metadata": {
        "id": "c7XsFOIfZf4Q"
      },
      "source": [
        ""
      ],
      "id": "c7XsFOIfZf4Q",
      "execution_count": null,
      "outputs": []
    },
    {
      "cell_type": "markdown",
      "metadata": {
        "id": "L48efjoyZgNc"
      },
      "source": [
        ""
      ],
      "id": "L48efjoyZgNc"
    },
    {
      "cell_type": "markdown",
      "metadata": {
        "id": "20zOwtsHZgeP"
      },
      "source": [
        ""
      ],
      "id": "20zOwtsHZgeP"
    },
    {
      "cell_type": "markdown",
      "metadata": {
        "id": "finite-albania"
      },
      "source": [
        "## Remove Vowels\n",
        "Write a Python program that takes a string from the user, makes the character lowercase, removes its vowel characters (\"a\", \"e\", \"i\", \"o\", and \"u\") and prints the resulting string. For example, given the string \"Hello\", the program should print \"hll\"."
      ],
      "id": "finite-albania"
    },
    {
      "cell_type": "code",
      "metadata": {
        "colab": {
          "base_uri": "https://localhost:8080/",
          "height": 35
        },
        "id": "1aygblKaGDtc",
        "outputId": "f47f8859-c09c-405e-8719-7519e157fbd2"
      },
      "source": [
        "a = \"SHOAIByuoeke\"\n",
        "a = a.lower()\n",
        "a = a.replace(\"a\",\"\")\n",
        "a = a.replace(\"e\",\"\")\n",
        "a = a.replace(\"i\",\"\")\n",
        "a = a.replace(\"o\",\"\")\n",
        "a = a.replace(\"u\",\"\")\n",
        "a\n",
        "\n",
        "\n",
        "\n",
        "\n",
        "\n",
        "\n"
      ],
      "id": "1aygblKaGDtc",
      "execution_count": null,
      "outputs": [
        {
          "output_type": "execute_result",
          "data": {
            "application/vnd.google.colaboratory.intrinsic+json": {
              "type": "string"
            },
            "text/plain": [
              "'shbyk'"
            ]
          },
          "metadata": {},
          "execution_count": 13
        }
      ]
    },
    {
      "cell_type": "code",
      "metadata": {
        "colab": {
          "base_uri": "https://localhost:8080/",
          "height": 35
        },
        "id": "Vce6VyV6N4kw",
        "outputId": "2286ee95-e355-4133-d35b-3934e47b57a6"
      },
      "source": [
        "delta2 = \"UMBRELLA IS YELLOW\"\n",
        "delta2 = delta2.lower()\n",
        "delta2 = delta2.replace(\"a\",\"\")\n",
        "delta2 = delta2.replace(\"e\",\"\")\n",
        "delta2 = delta2.replace(\"i\",\"\")\n",
        "delta2 = delta2.replace(\"o\",\"\")\n",
        "delta2 = delta2.replace(\"u\",\"\")\n",
        "delta2\n"
      ],
      "id": "Vce6VyV6N4kw",
      "execution_count": null,
      "outputs": [
        {
          "output_type": "execute_result",
          "data": {
            "application/vnd.google.colaboratory.intrinsic+json": {
              "type": "string"
            },
            "text/plain": [
              "'mbrll s yllw'"
            ]
          },
          "metadata": {},
          "execution_count": 18
        }
      ]
    },
    {
      "cell_type": "markdown",
      "metadata": {
        "id": "formed-candy"
      },
      "source": [
        "## Reverse the Words\n",
        "Write a Python program that takes a string containing whitespace-separated words, reverses the words in the string, and prints the result. For example, given the string \"hello how are you\", the program should print \"you are how hello\". "
      ],
      "id": "formed-candy"
    },
    {
      "cell_type": "code",
      "metadata": {
        "colab": {
          "base_uri": "https://localhost:8080/"
        },
        "id": "mSDyXOO7GBp2",
        "outputId": "d7e3b4c4-10de-4c6e-eb60-dec8f4a84efb"
      },
      "source": [
        "# input: one string like \"my name is king\"\n",
        "# output: another step is to split string based on space\n",
        "\n",
        "# step 1: defining/taking one string\n",
        "#module1 = \"my name is king\"\n",
        "\n",
        "# step 2: to split input string based on space\n",
        "#queen1=module1.split(\" \")\n",
        "\n",
        "# step 3: reverse the list of words\n",
        "#module1.reverse()\n",
        "\n",
        "#step4: combine the rerversed list of words to generate another string\n",
        "\n",
        "module1 = \"my name is king\"\n",
        "queen1=module1.split(\" \")\n",
        "queen1.reverse()\n",
        "result=\" \".join(queen1)\n",
        "print(result)\n"
      ],
      "id": "mSDyXOO7GBp2",
      "execution_count": null,
      "outputs": [
        {
          "output_type": "stream",
          "name": "stdout",
          "text": [
            "king is name my\n"
          ]
        }
      ]
    },
    {
      "cell_type": "markdown",
      "metadata": {
        "id": "after-radius"
      },
      "source": [
        "## Count Common Elements of 2 Lists\n",
        "Write a Python program that prints the number of common elements in two given lists. For example, given [1, 2, 3] and [5, 1, 3], the program should print 2."
      ],
      "id": "after-radius"
    },
    {
      "cell_type": "code",
      "metadata": {
        "id": "adverse-berkeley"
      },
      "source": [
        ""
      ],
      "id": "adverse-berkeley",
      "execution_count": null,
      "outputs": []
    },
    {
      "cell_type": "markdown",
      "metadata": {
        "id": "secret-theme"
      },
      "source": [
        "## Print Sorted Unique Words\n",
        "Write a Python program that takes a sequence of whitespace-separated words from the user and prints the words after removing all duplicate words and sorting them alphanumerically. For example, given the string \"hello world and practice makes perfect and hello world again\", the program should print \"again and hello makes perfect practice world\"."
      ],
      "id": "secret-theme"
    },
    {
      "cell_type": "code",
      "metadata": {
        "id": "requested-rapid"
      },
      "source": [
        ""
      ],
      "id": "requested-rapid",
      "execution_count": null,
      "outputs": []
    },
    {
      "cell_type": "markdown",
      "metadata": {
        "id": "matched-address"
      },
      "source": [
        "## Choose Randomly from a List\n",
        "Write a Python program that randomly choose and print an element from a given list. Hint: Check out the documentation of the random.choice() function."
      ],
      "id": "matched-address"
    },
    {
      "cell_type": "code",
      "metadata": {
        "id": "atlantic-learning"
      },
      "source": [
        ""
      ],
      "id": "atlantic-learning",
      "execution_count": null,
      "outputs": []
    },
    {
      "cell_type": "markdown",
      "metadata": {
        "id": "satellite-residence"
      },
      "source": [
        "## Convert a List of Integers to an Integer\n",
        "Write a Python program to convert a given list of integers to an integer. For example, given [11, 2, 54], the program should assign 11254 into an integer variable."
      ],
      "id": "satellite-residence"
    },
    {
      "cell_type": "code",
      "metadata": {
        "id": "excessive-spectrum"
      },
      "source": [
        ""
      ],
      "id": "excessive-spectrum",
      "execution_count": null,
      "outputs": []
    }
  ]
}