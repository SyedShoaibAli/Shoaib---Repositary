{
  "nbformat": 4,
  "nbformat_minor": 5,
  "metadata": {
    "kernelspec": {
      "display_name": "Python 3",
      "language": "python",
      "name": "python3"
    },
    "language_info": {
      "codemirror_mode": {
        "name": "ipython",
        "version": 3
      },
      "file_extension": ".py",
      "mimetype": "text/x-python",
      "name": "python",
      "nbconvert_exporter": "python",
      "pygments_lexer": "ipython3",
      "version": "3.8.5"
    },
    "colab": {
      "name": "linear_regression.ipynb",
      "provenance": [],
      "collapsed_sections": [],
      "include_colab_link": true
    }
  },
  "cells": [
    {
      "cell_type": "markdown",
      "metadata": {
        "id": "view-in-github",
        "colab_type": "text"
      },
      "source": [
        "<a href=\"https://colab.research.google.com/github/SyedShoaibAli/Shoaib---Repositary/blob/main/linear_regression.ipynb\" target=\"_parent\"><img src=\"https://colab.research.google.com/assets/colab-badge.svg\" alt=\"Open In Colab\"/></a>"
      ]
    },
    {
      "cell_type": "markdown",
      "metadata": {
        "id": "korean-wednesday"
      },
      "source": [
        "# Linear Regression\n",
        "Load the `housing` dataset. Split it into training and test sets. Train and test a linear regression model using scikit-learn. Check the documentation to identify the most important hyperparameters, attributes, and methods of the model. Use them in practice."
      ],
      "id": "korean-wednesday"
    },
    {
      "cell_type": "markdown",
      "metadata": {
        "id": "OcGQvOLS2cm0"
      },
      "source": [
        "# Importing Modules\n"
      ],
      "id": "OcGQvOLS2cm0"
    },
    {
      "cell_type": "code",
      "metadata": {
        "id": "infrared-copper"
      },
      "source": [
        "import pandas as pd\n",
        "import sklearn.model_selection\n",
        "import sklearn.linear_model\n",
        "import sklearn.metrics\n"
      ],
      "id": "infrared-copper",
      "execution_count": null,
      "outputs": []
    },
    {
      "cell_type": "markdown",
      "metadata": {
        "id": "L9vSJD2u5Ew8"
      },
      "source": [
        "# Loading the Dataset"
      ],
      "id": "L9vSJD2u5Ew8"
    },
    {
      "cell_type": "code",
      "metadata": {
        "colab": {
          "base_uri": "https://localhost:8080/",
          "height": 226
        },
        "id": "ck1reYDR5Nkb",
        "outputId": "f7c3234b-dd0d-484f-ae78-37c07d7afabe"
      },
      "source": [
        "# df = pd.read_csv('housing.csv')\n",
        "# remove \"id\" column\n",
        "df = pd.read_csv('housing.csv')\n",
        "df = df.drop(\"id\", axis=1)\n",
        "df.head()"
      ],
      "id": "ck1reYDR5Nkb",
      "execution_count": null,
      "outputs": [
        {
          "output_type": "execute_result",
          "data": {
            "text/html": [
              "<div>\n",
              "<style scoped>\n",
              "    .dataframe tbody tr th:only-of-type {\n",
              "        vertical-align: middle;\n",
              "    }\n",
              "\n",
              "    .dataframe tbody tr th {\n",
              "        vertical-align: top;\n",
              "    }\n",
              "\n",
              "    .dataframe thead th {\n",
              "        text-align: right;\n",
              "    }\n",
              "</style>\n",
              "<table border=\"1\" class=\"dataframe\">\n",
              "  <thead>\n",
              "    <tr style=\"text-align: right;\">\n",
              "      <th></th>\n",
              "      <th>price</th>\n",
              "      <th>area</th>\n",
              "      <th>bedrooms</th>\n",
              "      <th>bathrooms</th>\n",
              "      <th>stories</th>\n",
              "      <th>stories.1</th>\n",
              "      <th>guestroom</th>\n",
              "      <th>basement</th>\n",
              "      <th>hotwaterheating</th>\n",
              "      <th>airconditioning</th>\n",
              "      <th>parking</th>\n",
              "      <th>prefarea</th>\n",
              "      <th>furnishingstatus</th>\n",
              "    </tr>\n",
              "  </thead>\n",
              "  <tbody>\n",
              "    <tr>\n",
              "      <th>0</th>\n",
              "      <td>13300000</td>\n",
              "      <td>7420</td>\n",
              "      <td>4</td>\n",
              "      <td>2</td>\n",
              "      <td>3</td>\n",
              "      <td>1</td>\n",
              "      <td>0</td>\n",
              "      <td>0</td>\n",
              "      <td>0</td>\n",
              "      <td>1</td>\n",
              "      <td>2</td>\n",
              "      <td>1</td>\n",
              "      <td>1.0</td>\n",
              "    </tr>\n",
              "    <tr>\n",
              "      <th>1</th>\n",
              "      <td>12250000</td>\n",
              "      <td>8960</td>\n",
              "      <td>4</td>\n",
              "      <td>4</td>\n",
              "      <td>4</td>\n",
              "      <td>1</td>\n",
              "      <td>0</td>\n",
              "      <td>0</td>\n",
              "      <td>0</td>\n",
              "      <td>1</td>\n",
              "      <td>3</td>\n",
              "      <td>0</td>\n",
              "      <td>1.0</td>\n",
              "    </tr>\n",
              "    <tr>\n",
              "      <th>2</th>\n",
              "      <td>12250000</td>\n",
              "      <td>9960</td>\n",
              "      <td>3</td>\n",
              "      <td>2</td>\n",
              "      <td>2</td>\n",
              "      <td>1</td>\n",
              "      <td>0</td>\n",
              "      <td>1</td>\n",
              "      <td>0</td>\n",
              "      <td>0</td>\n",
              "      <td>2</td>\n",
              "      <td>1</td>\n",
              "      <td>0.5</td>\n",
              "    </tr>\n",
              "    <tr>\n",
              "      <th>3</th>\n",
              "      <td>12215000</td>\n",
              "      <td>7500</td>\n",
              "      <td>4</td>\n",
              "      <td>2</td>\n",
              "      <td>2</td>\n",
              "      <td>1</td>\n",
              "      <td>0</td>\n",
              "      <td>1</td>\n",
              "      <td>0</td>\n",
              "      <td>1</td>\n",
              "      <td>3</td>\n",
              "      <td>1</td>\n",
              "      <td>1.0</td>\n",
              "    </tr>\n",
              "    <tr>\n",
              "      <th>4</th>\n",
              "      <td>11410000</td>\n",
              "      <td>7420</td>\n",
              "      <td>4</td>\n",
              "      <td>1</td>\n",
              "      <td>2</td>\n",
              "      <td>1</td>\n",
              "      <td>1</td>\n",
              "      <td>1</td>\n",
              "      <td>0</td>\n",
              "      <td>1</td>\n",
              "      <td>2</td>\n",
              "      <td>0</td>\n",
              "      <td>1.0</td>\n",
              "    </tr>\n",
              "  </tbody>\n",
              "</table>\n",
              "</div>"
            ],
            "text/plain": [
              "      price  area  bedrooms  ...  parking  prefarea  furnishingstatus\n",
              "0  13300000  7420         4  ...        2         1               1.0\n",
              "1  12250000  8960         4  ...        3         0               1.0\n",
              "2  12250000  9960         3  ...        2         1               0.5\n",
              "3  12215000  7500         4  ...        3         1               1.0\n",
              "4  11410000  7420         4  ...        2         0               1.0\n",
              "\n",
              "[5 rows x 13 columns]"
            ]
          },
          "metadata": {},
          "execution_count": 3
        }
      ]
    },
    {
      "cell_type": "markdown",
      "metadata": {
        "id": "acYvQKnW6twG"
      },
      "source": [
        "# Splitting the Data into Training and Test Sets"
      ],
      "id": "acYvQKnW6twG"
    },
    {
      "cell_type": "code",
      "metadata": {
        "colab": {
          "base_uri": "https://localhost:8080/"
        },
        "id": "L3-zrq-v6wvF",
        "outputId": "22ebb4fb-f308-47de-fb8b-21606016b2b0"
      },
      "source": [
        "x = df.drop(\"price\", axis=1)\n",
        "y = df[\"price\"]\n",
        "x_train, x_test, y_train, y_test = sklearn.model_selection.train_test_split(x,y)\n",
        "\n",
        "print(\"The size of x_train: \", x_train.shape)\n",
        "print(\"The size of y_train: \", y_train.shape)\n",
        "print(\"The size of x_test: \", x_test.shape)\n",
        "print(\"The size of y_test: \", y_test.shape)\n"
      ],
      "id": "L3-zrq-v6wvF",
      "execution_count": null,
      "outputs": [
        {
          "output_type": "stream",
          "name": "stdout",
          "text": [
            "The size of x_train:  (408, 12)\n",
            "The size of y_train:  (408,)\n",
            "The size of x_test:  (137, 12)\n",
            "The size of y_test:  (137,)\n"
          ]
        }
      ]
    },
    {
      "cell_type": "markdown",
      "metadata": {
        "id": "KhrosbZy68qr"
      },
      "source": [
        "# Training a Model"
      ],
      "id": "KhrosbZy68qr"
    },
    {
      "cell_type": "code",
      "metadata": {
        "colab": {
          "base_uri": "https://localhost:8080/"
        },
        "id": "5IGFdT8I7B1g",
        "outputId": "930f7c59-afe8-464d-e3ff-aff43b115fba"
      },
      "source": [
        "model = sklearn.linear_model.LinearRegression()\n",
        "model.fit(x_train, y_train)\n"
      ],
      "id": "5IGFdT8I7B1g",
      "execution_count": null,
      "outputs": [
        {
          "output_type": "execute_result",
          "data": {
            "text/plain": [
              "LinearRegression()"
            ]
          },
          "metadata": {},
          "execution_count": 9
        }
      ]
    },
    {
      "cell_type": "markdown",
      "metadata": {
        "id": "1jMY8Glf7L8J"
      },
      "source": [
        "# Testing the trained model"
      ],
      "id": "1jMY8Glf7L8J"
    },
    {
      "cell_type": "code",
      "metadata": {
        "colab": {
          "base_uri": "https://localhost:8080/"
        },
        "id": "_I0ErC-z7PqK",
        "outputId": "7b576c31-1a02-4ae5-80fb-0029a1dc7b70"
      },
      "source": [
        "# Actual prices of our test data points are stored in y_test\n",
        "y_predicted = model.predict(x_test)\n",
        "# y_predicted \n",
        "\n",
        "mse = sklearn.metrics.mean_squared_error(y_test,y_predicted)\n",
        "mse\n"
      ],
      "id": "_I0ErC-z7PqK",
      "execution_count": null,
      "outputs": [
        {
          "output_type": "execute_result",
          "data": {
            "text/plain": [
              "970445771368.1207"
            ]
          },
          "metadata": {},
          "execution_count": 10
        }
      ]
    },
    {
      "cell_type": "code",
      "metadata": {
        "id": "AcRstUhr7R3P"
      },
      "source": [
        ""
      ],
      "id": "AcRstUhr7R3P",
      "execution_count": null,
      "outputs": []
    }
  ]
}